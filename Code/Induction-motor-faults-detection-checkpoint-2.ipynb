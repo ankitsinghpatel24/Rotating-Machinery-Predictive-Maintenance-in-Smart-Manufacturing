{
 "cells": [
  {
   "cell_type": "markdown",
   "id": "cd3bee31",
   "metadata": {
    "papermill": {
     "duration": 0.023156,
     "end_time": "2021-09-24T16:35:18.139073",
     "exception": false,
     "start_time": "2021-09-24T16:35:18.115917",
     "status": "completed"
    },
    "tags": []
   },
   "source": [
    "## Prepare Data"
   ]
  },
  {
   "cell_type": "code",
   "execution_count": 1,
   "id": "37fa79b6",
   "metadata": {
    "execution": {
     "iopub.execute_input": "2021-09-24T16:35:18.190007Z",
     "iopub.status.busy": "2021-09-24T16:35:18.188852Z",
     "iopub.status.idle": "2021-09-24T16:35:18.199055Z",
     "shell.execute_reply": "2021-09-24T16:35:18.199594Z",
     "shell.execute_reply.started": "2021-09-24T16:25:32.195581Z"
    },
    "papermill": {
     "duration": 0.037392,
     "end_time": "2021-09-24T16:35:18.199884",
     "exception": false,
     "start_time": "2021-09-24T16:35:18.162492",
     "status": "completed"
    },
    "tags": []
   },
   "outputs": [],
   "source": [
    "import numpy as np\n",
    "import pandas as pd\n",
    "import glob "
   ]
  },
  {
   "cell_type": "code",
   "execution_count": 2,
   "id": "dfcf0b20",
   "metadata": {
    "execution": {
     "iopub.execute_input": "2021-09-24T16:35:18.252778Z",
     "iopub.status.busy": "2021-09-24T16:35:18.251110Z",
     "iopub.status.idle": "2021-09-24T16:35:18.255542Z",
     "shell.execute_reply": "2021-09-24T16:35:18.255010Z",
     "shell.execute_reply.started": "2021-09-24T16:25:32.205031Z"
    },
    "papermill": {
     "duration": 0.03094,
     "end_time": "2021-09-24T16:35:18.255679",
     "exception": false,
     "start_time": "2021-09-24T16:35:18.224739",
     "status": "completed"
    },
    "tags": []
   },
   "outputs": [],
   "source": [
    "cur_path = \"C:/Users/Ankit Patel/Desktop/imbalance\""
   ]
  },
  {
   "cell_type": "code",
   "execution_count": 3,
   "id": "0d58e1c7",
   "metadata": {
    "execution": {
     "iopub.execute_input": "2021-09-24T16:35:18.309218Z",
     "iopub.status.busy": "2021-09-24T16:35:18.308529Z",
     "iopub.status.idle": "2021-09-24T16:35:18.344173Z",
     "shell.execute_reply": "2021-09-24T16:35:18.343514Z",
     "shell.execute_reply.started": "2021-09-24T16:25:32.220027Z"
    },
    "papermill": {
     "duration": 0.06526,
     "end_time": "2021-09-24T16:35:18.344310",
     "exception": false,
     "start_time": "2021-09-24T16:35:18.279050",
     "status": "completed"
    },
    "tags": []
   },
   "outputs": [],
   "source": [
    "normal_file_names = glob.glob(\"C:/Users/Malviya/Desktop\"+'/normal/*.csv')\n",
    "imnormal_file_names_6g = glob.glob(cur_path+'/6g/*.csv')\n",
    "imnormal_file_names_10g = glob.glob(cur_path+'/10g/*.csv')\n",
    "imnormal_file_names_15g = glob.glob(cur_path+'//15g/*.csv')\n",
    "imnormal_file_names_20g = glob.glob(cur_path+'//20g/*.csv')\n",
    "imnormal_file_names_25g = glob.glob(cur_path+'//25g/*.csv')\n",
    "imnormal_file_names_30g = glob.glob(cur_path+'//30g/*.csv')"
   ]
  },
  {
   "cell_type": "code",
   "execution_count": 4,
   "id": "29817400",
   "metadata": {
    "execution": {
     "iopub.execute_input": "2021-09-24T16:35:18.397326Z",
     "iopub.status.busy": "2021-09-24T16:35:18.396702Z",
     "iopub.status.idle": "2021-09-24T16:35:18.399118Z",
     "shell.execute_reply": "2021-09-24T16:35:18.398644Z",
     "shell.execute_reply.started": "2021-09-24T16:25:32.269886Z"
    },
    "papermill": {
     "duration": 0.031078,
     "end_time": "2021-09-24T16:35:18.399255",
     "exception": false,
     "start_time": "2021-09-24T16:35:18.368177",
     "status": "completed"
    },
    "tags": []
   },
   "outputs": [],
   "source": [
    "def dataReader(path_names):\n",
    "    data_n = pd.DataFrame()\n",
    "    for i in path_names:\n",
    "        low_data = pd.read_csv(i,header=None)\n",
    "        data_n = pd.concat([data_n,low_data],ignore_index=True)\n",
    "    return data_n"
   ]
  },
  {
   "cell_type": "code",
   "execution_count": 5,
   "id": "b863e8a4",
   "metadata": {
    "execution": {
     "iopub.execute_input": "2021-09-24T16:35:18.454930Z",
     "iopub.status.busy": "2021-09-24T16:35:18.454093Z",
     "iopub.status.idle": "2021-09-24T16:36:46.490661Z",
     "shell.execute_reply": "2021-09-24T16:36:46.489628Z",
     "shell.execute_reply.started": "2021-09-24T16:25:32.278998Z"
    },
    "papermill": {
     "duration": 88.068207,
     "end_time": "2021-09-24T16:36:46.491046",
     "exception": false,
     "start_time": "2021-09-24T16:35:18.422839",
     "status": "completed"
    },
    "tags": []
   },
   "outputs": [],
   "source": [
    "data_n = dataReader(normal_file_names)\n",
    "data_6g = dataReader(imnormal_file_names_6g)\n",
    "data_10g = dataReader(imnormal_file_names_10g)\n",
    "data_15g = dataReader(imnormal_file_names_15g)\n",
    "data_20g = dataReader(imnormal_file_names_20g)\n",
    "data_25g = dataReader(imnormal_file_names_25g)\n",
    "data_30g = dataReader(imnormal_file_names_30g)"
   ]
  },
  {
   "cell_type": "code",
   "execution_count": 6,
   "id": "48e38787",
   "metadata": {
    "execution": {
     "iopub.execute_input": "2021-09-24T16:36:46.578910Z",
     "iopub.status.busy": "2021-09-24T16:36:46.562212Z",
     "iopub.status.idle": "2021-09-24T16:36:46.583730Z",
     "shell.execute_reply": "2021-09-24T16:36:46.582860Z",
     "shell.execute_reply.started": "2021-09-24T16:26:52.128857Z"
    },
    "papermill": {
     "duration": 0.066046,
     "end_time": "2021-09-24T16:36:46.583921",
     "exception": false,
     "start_time": "2021-09-24T16:36:46.517875",
     "status": "completed"
    },
    "tags": []
   },
   "outputs": [
    {
     "name": "stdout",
     "output_type": "stream",
     "text": [
      "<class 'pandas.core.frame.DataFrame'>\n",
      "RangeIndex: 12250000 entries, 0 to 12249999\n",
      "Data columns (total 8 columns):\n",
      " #   Column  Dtype  \n",
      "---  ------  -----  \n",
      " 0   0       float64\n",
      " 1   1       float64\n",
      " 2   2       float64\n",
      " 3   3       float64\n",
      " 4   4       float64\n",
      " 5   5       float64\n",
      " 6   6       float64\n",
      " 7   7       float64\n",
      "dtypes: float64(8)\n",
      "memory usage: 747.7 MB\n"
     ]
    }
   ],
   "source": [
    "data_n.info()"
   ]
  },
  {
   "cell_type": "markdown",
   "id": "de46dd1d",
   "metadata": {
    "papermill": {
     "duration": 0.031264,
     "end_time": "2021-09-24T16:36:46.645182",
     "exception": false,
     "start_time": "2021-09-24T16:36:46.613918",
     "status": "completed"
    },
    "tags": []
   },
   "source": [
    "#### Down Sampling"
   ]
  },
  {
   "cell_type": "code",
   "execution_count": 7,
   "id": "f1a02c40",
   "metadata": {
    "execution": {
     "iopub.execute_input": "2021-09-24T16:36:46.719952Z",
     "iopub.status.busy": "2021-09-24T16:36:46.719060Z",
     "iopub.status.idle": "2021-09-24T16:36:46.722107Z",
     "shell.execute_reply": "2021-09-24T16:36:46.721577Z",
     "shell.execute_reply.started": "2021-09-24T16:26:52.158412Z"
    },
    "papermill": {
     "duration": 0.044286,
     "end_time": "2021-09-24T16:36:46.722242",
     "exception": false,
     "start_time": "2021-09-24T16:36:46.677956",
     "status": "completed"
    },
    "tags": []
   },
   "outputs": [],
   "source": [
    "def downSampler(data,a,b):\n",
    "    \"\"\"\n",
    "    data = data\n",
    "    a = start index\n",
    "    b = sampling rate\n",
    "    \"\"\"\n",
    "    data_decreased = pd.DataFrame()\n",
    "    x = b\n",
    "    for i in range(int(len(data)/x)):\n",
    "        data_decreased = data_decreased.append(data.iloc[a:b,:].sum()/x,ignore_index=True)\n",
    "        a += x\n",
    "        b += x\n",
    "    return data_decreased"
   ]
  },
  {
   "cell_type": "code",
   "execution_count": 8,
   "id": "09c6ede0",
   "metadata": {
    "execution": {
     "iopub.execute_input": "2021-09-24T16:36:46.780722Z",
     "iopub.status.busy": "2021-09-24T16:36:46.779662Z",
     "iopub.status.idle": "2021-09-24T16:37:01.298209Z",
     "shell.execute_reply": "2021-09-24T16:37:01.297124Z",
     "shell.execute_reply.started": "2021-09-24T16:26:52.172272Z"
    },
    "papermill": {
     "duration": 14.551518,
     "end_time": "2021-09-24T16:37:01.298358",
     "exception": false,
     "start_time": "2021-09-24T16:36:46.746840",
     "status": "completed"
    },
    "tags": []
   },
   "outputs": [],
   "source": [
    "data_n = downSampler(data_n, 0, 5000)\n",
    "data_6g = downSampler(data_6g, 0, 5000)\n",
    "data_10g = downSampler(data_10g, 0, 5000)\n",
    "data_15g = downSampler(data_15g, 0, 5000)\n",
    "data_20g = downSampler(data_20g, 0, 5000)\n",
    "data_25g = downSampler(data_25g, 0, 5000)\n",
    "data_30g = downSampler(data_30g, 0, 5000)"
   ]
  },
  {
   "cell_type": "code",
   "execution_count": 9,
   "id": "df944fa5",
   "metadata": {
    "execution": {
     "iopub.execute_input": "2021-09-24T16:37:01.355044Z",
     "iopub.status.busy": "2021-09-24T16:37:01.353768Z",
     "iopub.status.idle": "2021-09-24T16:37:01.376542Z",
     "shell.execute_reply": "2021-09-24T16:37:01.377131Z",
     "shell.execute_reply.started": "2021-09-24T16:27:08.959586Z"
    },
    "papermill": {
     "duration": 0.054774,
     "end_time": "2021-09-24T16:37:01.377343",
     "exception": false,
     "start_time": "2021-09-24T16:37:01.322569",
     "status": "completed"
    },
    "tags": []
   },
   "outputs": [
    {
     "data": {
      "text/html": [
       "<div>\n",
       "<style scoped>\n",
       "    .dataframe tbody tr th:only-of-type {\n",
       "        vertical-align: middle;\n",
       "    }\n",
       "\n",
       "    .dataframe tbody tr th {\n",
       "        vertical-align: top;\n",
       "    }\n",
       "\n",
       "    .dataframe thead th {\n",
       "        text-align: right;\n",
       "    }\n",
       "</style>\n",
       "<table border=\"1\" class=\"dataframe\">\n",
       "  <thead>\n",
       "    <tr style=\"text-align: right;\">\n",
       "      <th></th>\n",
       "      <th>0</th>\n",
       "      <th>1</th>\n",
       "      <th>2</th>\n",
       "      <th>3</th>\n",
       "      <th>4</th>\n",
       "      <th>5</th>\n",
       "      <th>6</th>\n",
       "      <th>7</th>\n",
       "    </tr>\n",
       "  </thead>\n",
       "  <tbody>\n",
       "    <tr>\n",
       "      <th>0</th>\n",
       "      <td>0.068100</td>\n",
       "      <td>0.011065</td>\n",
       "      <td>0.017430</td>\n",
       "      <td>0.001620</td>\n",
       "      <td>-0.059850</td>\n",
       "      <td>0.000868</td>\n",
       "      <td>-0.088720</td>\n",
       "      <td>0.010209</td>\n",
       "    </tr>\n",
       "    <tr>\n",
       "      <th>1</th>\n",
       "      <td>-0.045139</td>\n",
       "      <td>0.015286</td>\n",
       "      <td>-0.010404</td>\n",
       "      <td>-0.000644</td>\n",
       "      <td>0.426827</td>\n",
       "      <td>0.005168</td>\n",
       "      <td>0.155058</td>\n",
       "      <td>0.013550</td>\n",
       "    </tr>\n",
       "    <tr>\n",
       "      <th>2</th>\n",
       "      <td>-0.064635</td>\n",
       "      <td>0.029477</td>\n",
       "      <td>0.002314</td>\n",
       "      <td>0.001339</td>\n",
       "      <td>0.232491</td>\n",
       "      <td>0.005660</td>\n",
       "      <td>0.390845</td>\n",
       "      <td>0.009958</td>\n",
       "    </tr>\n",
       "    <tr>\n",
       "      <th>3</th>\n",
       "      <td>0.089400</td>\n",
       "      <td>-0.002910</td>\n",
       "      <td>0.002770</td>\n",
       "      <td>-0.002331</td>\n",
       "      <td>-0.116512</td>\n",
       "      <td>-0.003224</td>\n",
       "      <td>0.219854</td>\n",
       "      <td>0.012501</td>\n",
       "    </tr>\n",
       "    <tr>\n",
       "      <th>4</th>\n",
       "      <td>-0.070240</td>\n",
       "      <td>0.008164</td>\n",
       "      <td>-0.012449</td>\n",
       "      <td>0.002579</td>\n",
       "      <td>0.367824</td>\n",
       "      <td>0.008202</td>\n",
       "      <td>0.343822</td>\n",
       "      <td>0.010695</td>\n",
       "    </tr>\n",
       "    <tr>\n",
       "      <th>...</th>\n",
       "      <td>...</td>\n",
       "      <td>...</td>\n",
       "      <td>...</td>\n",
       "      <td>...</td>\n",
       "      <td>...</td>\n",
       "      <td>...</td>\n",
       "      <td>...</td>\n",
       "      <td>...</td>\n",
       "    </tr>\n",
       "    <tr>\n",
       "      <th>2445</th>\n",
       "      <td>0.014942</td>\n",
       "      <td>0.010274</td>\n",
       "      <td>0.000469</td>\n",
       "      <td>0.002580</td>\n",
       "      <td>0.138325</td>\n",
       "      <td>0.026142</td>\n",
       "      <td>0.336499</td>\n",
       "      <td>0.009176</td>\n",
       "    </tr>\n",
       "    <tr>\n",
       "      <th>2446</th>\n",
       "      <td>-0.078864</td>\n",
       "      <td>0.016197</td>\n",
       "      <td>0.001844</td>\n",
       "      <td>-0.000609</td>\n",
       "      <td>0.105457</td>\n",
       "      <td>0.016553</td>\n",
       "      <td>0.583317</td>\n",
       "      <td>0.011419</td>\n",
       "    </tr>\n",
       "    <tr>\n",
       "      <th>2447</th>\n",
       "      <td>-0.026635</td>\n",
       "      <td>0.000749</td>\n",
       "      <td>0.000612</td>\n",
       "      <td>0.002510</td>\n",
       "      <td>0.044352</td>\n",
       "      <td>0.010177</td>\n",
       "      <td>0.540934</td>\n",
       "      <td>0.012321</td>\n",
       "    </tr>\n",
       "    <tr>\n",
       "      <th>2448</th>\n",
       "      <td>0.016440</td>\n",
       "      <td>-0.018926</td>\n",
       "      <td>-0.010451</td>\n",
       "      <td>-0.003154</td>\n",
       "      <td>-0.053072</td>\n",
       "      <td>-0.011704</td>\n",
       "      <td>0.407358</td>\n",
       "      <td>0.012750</td>\n",
       "    </tr>\n",
       "    <tr>\n",
       "      <th>2449</th>\n",
       "      <td>0.026846</td>\n",
       "      <td>0.016300</td>\n",
       "      <td>-0.000227</td>\n",
       "      <td>-0.000158</td>\n",
       "      <td>-0.247938</td>\n",
       "      <td>-0.037531</td>\n",
       "      <td>-0.245142</td>\n",
       "      <td>0.011498</td>\n",
       "    </tr>\n",
       "  </tbody>\n",
       "</table>\n",
       "<p>2450 rows × 8 columns</p>\n",
       "</div>"
      ],
      "text/plain": [
       "             0         1         2         3         4         5         6  \\\n",
       "0     0.068100  0.011065  0.017430  0.001620 -0.059850  0.000868 -0.088720   \n",
       "1    -0.045139  0.015286 -0.010404 -0.000644  0.426827  0.005168  0.155058   \n",
       "2    -0.064635  0.029477  0.002314  0.001339  0.232491  0.005660  0.390845   \n",
       "3     0.089400 -0.002910  0.002770 -0.002331 -0.116512 -0.003224  0.219854   \n",
       "4    -0.070240  0.008164 -0.012449  0.002579  0.367824  0.008202  0.343822   \n",
       "...        ...       ...       ...       ...       ...       ...       ...   \n",
       "2445  0.014942  0.010274  0.000469  0.002580  0.138325  0.026142  0.336499   \n",
       "2446 -0.078864  0.016197  0.001844 -0.000609  0.105457  0.016553  0.583317   \n",
       "2447 -0.026635  0.000749  0.000612  0.002510  0.044352  0.010177  0.540934   \n",
       "2448  0.016440 -0.018926 -0.010451 -0.003154 -0.053072 -0.011704  0.407358   \n",
       "2449  0.026846  0.016300 -0.000227 -0.000158 -0.247938 -0.037531 -0.245142   \n",
       "\n",
       "             7  \n",
       "0     0.010209  \n",
       "1     0.013550  \n",
       "2     0.009958  \n",
       "3     0.012501  \n",
       "4     0.010695  \n",
       "...        ...  \n",
       "2445  0.009176  \n",
       "2446  0.011419  \n",
       "2447  0.012321  \n",
       "2448  0.012750  \n",
       "2449  0.011498  \n",
       "\n",
       "[2450 rows x 8 columns]"
      ]
     },
     "execution_count": 9,
     "metadata": {},
     "output_type": "execute_result"
    }
   ],
   "source": [
    "data_n"
   ]
  },
  {
   "cell_type": "markdown",
   "id": "67667f50",
   "metadata": {
    "papermill": {
     "duration": 0.024231,
     "end_time": "2021-09-24T16:37:01.426369",
     "exception": false,
     "start_time": "2021-09-24T16:37:01.402138",
     "status": "completed"
    },
    "tags": []
   },
   "source": [
    "#### FFT Convolve"
   ]
  },
  {
   "cell_type": "code",
   "execution_count": 10,
   "id": "d3cd608d",
   "metadata": {
    "execution": {
     "iopub.execute_input": "2021-09-24T16:37:01.481550Z",
     "iopub.status.busy": "2021-09-24T16:37:01.480815Z",
     "iopub.status.idle": "2021-09-24T16:37:02.348514Z",
     "shell.execute_reply": "2021-09-24T16:37:02.349076Z",
     "shell.execute_reply.started": "2021-09-24T16:27:08.988794Z"
    },
    "papermill": {
     "duration": 0.897937,
     "end_time": "2021-09-24T16:37:02.349260",
     "exception": false,
     "start_time": "2021-09-24T16:37:01.451323",
     "status": "completed"
    },
    "tags": []
   },
   "outputs": [],
   "source": [
    "from scipy import signal\n",
    "def FFT(data):\n",
    "    autocorr = signal.fftconvolve(data,data[::-1],mode='full')\n",
    "    return pd.DataFrame(autocorr)"
   ]
  },
  {
   "cell_type": "code",
   "execution_count": 11,
   "id": "4f050c36",
   "metadata": {
    "execution": {
     "iopub.execute_input": "2021-09-24T16:37:02.402066Z",
     "iopub.status.busy": "2021-09-24T16:37:02.401360Z",
     "iopub.status.idle": "2021-09-24T16:37:02.424185Z",
     "shell.execute_reply": "2021-09-24T16:37:02.424745Z",
     "shell.execute_reply.started": "2021-09-24T16:27:09.842036Z"
    },
    "papermill": {
     "duration": 0.05091,
     "end_time": "2021-09-24T16:37:02.424924",
     "exception": false,
     "start_time": "2021-09-24T16:37:02.374014",
     "status": "completed"
    },
    "tags": []
   },
   "outputs": [],
   "source": [
    "data_n = FFT(data_n)\n",
    "data_6g = FFT(data_6g)\n",
    "data_10g = FFT(data_10g)\n",
    "data_15g = FFT(data_15g)\n",
    "data_20g = FFT(data_20g)\n",
    "data_25g = FFT(data_25g)\n",
    "data_30g = FFT(data_30g)"
   ]
  },
  {
   "cell_type": "code",
   "execution_count": 12,
   "id": "038206df",
   "metadata": {
    "execution": {
     "iopub.execute_input": "2021-09-24T16:37:02.477653Z",
     "iopub.status.busy": "2021-09-24T16:37:02.476927Z",
     "iopub.status.idle": "2021-09-24T16:37:02.493191Z",
     "shell.execute_reply": "2021-09-24T16:37:02.493742Z",
     "shell.execute_reply.started": "2021-09-24T16:27:09.871537Z"
    },
    "papermill": {
     "duration": 0.044068,
     "end_time": "2021-09-24T16:37:02.493919",
     "exception": false,
     "start_time": "2021-09-24T16:37:02.449851",
     "status": "completed"
    },
    "tags": []
   },
   "outputs": [
    {
     "data": {
      "text/html": [
       "<div>\n",
       "<style scoped>\n",
       "    .dataframe tbody tr th:only-of-type {\n",
       "        vertical-align: middle;\n",
       "    }\n",
       "\n",
       "    .dataframe tbody tr th {\n",
       "        vertical-align: top;\n",
       "    }\n",
       "\n",
       "    .dataframe thead th {\n",
       "        text-align: right;\n",
       "    }\n",
       "</style>\n",
       "<table border=\"1\" class=\"dataframe\">\n",
       "  <thead>\n",
       "    <tr style=\"text-align: right;\">\n",
       "      <th></th>\n",
       "      <th>0</th>\n",
       "    </tr>\n",
       "  </thead>\n",
       "  <tbody>\n",
       "    <tr>\n",
       "      <th>0</th>\n",
       "      <td>1</td>\n",
       "    </tr>\n",
       "    <tr>\n",
       "      <th>1</th>\n",
       "      <td>1</td>\n",
       "    </tr>\n",
       "    <tr>\n",
       "      <th>2</th>\n",
       "      <td>1</td>\n",
       "    </tr>\n",
       "    <tr>\n",
       "      <th>3</th>\n",
       "      <td>1</td>\n",
       "    </tr>\n",
       "    <tr>\n",
       "      <th>4</th>\n",
       "      <td>1</td>\n",
       "    </tr>\n",
       "    <tr>\n",
       "      <th>...</th>\n",
       "      <td>...</td>\n",
       "    </tr>\n",
       "    <tr>\n",
       "      <th>14592</th>\n",
       "      <td>2</td>\n",
       "    </tr>\n",
       "    <tr>\n",
       "      <th>14593</th>\n",
       "      <td>2</td>\n",
       "    </tr>\n",
       "    <tr>\n",
       "      <th>14594</th>\n",
       "      <td>2</td>\n",
       "    </tr>\n",
       "    <tr>\n",
       "      <th>14595</th>\n",
       "      <td>2</td>\n",
       "    </tr>\n",
       "    <tr>\n",
       "      <th>14596</th>\n",
       "      <td>2</td>\n",
       "    </tr>\n",
       "  </tbody>\n",
       "</table>\n",
       "<p>14597 rows × 1 columns</p>\n",
       "</div>"
      ],
      "text/plain": [
       "       0\n",
       "0      1\n",
       "1      1\n",
       "2      1\n",
       "3      1\n",
       "4      1\n",
       "...   ..\n",
       "14592  2\n",
       "14593  2\n",
       "14594  2\n",
       "14595  2\n",
       "14596  2\n",
       "\n",
       "[14597 rows x 1 columns]"
      ]
     },
     "execution_count": 12,
     "metadata": {},
     "output_type": "execute_result"
    }
   ],
   "source": [
    "y_1 = pd.DataFrame(np.ones(int(len(data_n)),dtype=int))\n",
    "y_2 = pd.DataFrame(np.zeros(int(len(data_6g)),dtype=int))\n",
    "y_3 = pd.DataFrame(np.full((int(len(data_10g)),1),2))\n",
    "y_4 = pd.DataFrame(np.full((int(len(data_15g)),1),3))\n",
    "y_5 = pd.DataFrame(np.full((int(len(data_20g)),1),4))\n",
    "y_6 = pd.DataFrame(np.full((int(len(data_25g)),1),5))\n",
    "y_7 = pd.DataFrame(np.full((int(len(data_30g)),1),6))\n",
    "y = pd.concat([y_1,y_2,y_3,y_4,y_5,y_6,y_7], ignore_index=True)\n",
    "y"
   ]
  },
  {
   "cell_type": "code",
   "execution_count": 13,
   "id": "5892bbeb",
   "metadata": {
    "execution": {
     "iopub.execute_input": "2021-09-24T16:37:02.547815Z",
     "iopub.status.busy": "2021-09-24T16:37:02.547109Z",
     "iopub.status.idle": "2021-09-24T16:37:02.554316Z",
     "shell.execute_reply": "2021-09-24T16:37:02.554840Z",
     "shell.execute_reply.started": "2021-09-24T16:27:09.893278Z"
    },
    "papermill": {
     "duration": 0.035822,
     "end_time": "2021-09-24T16:37:02.555025",
     "exception": false,
     "start_time": "2021-09-24T16:37:02.519203",
     "status": "completed"
    },
    "tags": []
   },
   "outputs": [],
   "source": [
    "data = pd.concat([data_n,data_6g,data_10g,data_15g,data_20g,data_25g,data_30g],ignore_index=True)"
   ]
  },
  {
   "cell_type": "code",
   "execution_count": 14,
   "id": "88d773df",
   "metadata": {
    "execution": {
     "iopub.execute_input": "2021-09-24T16:37:02.608471Z",
     "iopub.status.busy": "2021-09-24T16:37:02.607829Z",
     "iopub.status.idle": "2021-09-24T16:37:02.631666Z",
     "shell.execute_reply": "2021-09-24T16:37:02.630954Z",
     "shell.execute_reply.started": "2021-09-24T16:27:09.904927Z"
    },
    "papermill": {
     "duration": 0.051755,
     "end_time": "2021-09-24T16:37:02.631815",
     "exception": false,
     "start_time": "2021-09-24T16:37:02.580060",
     "status": "completed"
    },
    "tags": []
   },
   "outputs": [
    {
     "data": {
      "text/html": [
       "<div>\n",
       "<style scoped>\n",
       "    .dataframe tbody tr th:only-of-type {\n",
       "        vertical-align: middle;\n",
       "    }\n",
       "\n",
       "    .dataframe tbody tr th {\n",
       "        vertical-align: top;\n",
       "    }\n",
       "\n",
       "    .dataframe thead th {\n",
       "        text-align: right;\n",
       "    }\n",
       "</style>\n",
       "<table border=\"1\" class=\"dataframe\">\n",
       "  <thead>\n",
       "    <tr style=\"text-align: right;\">\n",
       "      <th></th>\n",
       "      <th>0</th>\n",
       "      <th>1</th>\n",
       "      <th>2</th>\n",
       "      <th>3</th>\n",
       "      <th>4</th>\n",
       "      <th>5</th>\n",
       "      <th>6</th>\n",
       "      <th>7</th>\n",
       "      <th>8</th>\n",
       "      <th>9</th>\n",
       "      <th>10</th>\n",
       "      <th>11</th>\n",
       "      <th>12</th>\n",
       "      <th>13</th>\n",
       "      <th>14</th>\n",
       "    </tr>\n",
       "  </thead>\n",
       "  <tbody>\n",
       "    <tr>\n",
       "      <th>0</th>\n",
       "      <td>0.001828</td>\n",
       "      <td>0.001407</td>\n",
       "      <td>0.000633</td>\n",
       "      <td>0.000314</td>\n",
       "      <td>-0.018471</td>\n",
       "      <td>-0.006255</td>\n",
       "      <td>-0.023785</td>\n",
       "      <td>-0.004148</td>\n",
       "      <td>0.010819</td>\n",
       "      <td>0.001846</td>\n",
       "      <td>0.036653</td>\n",
       "      <td>-0.000102</td>\n",
       "      <td>0.021376</td>\n",
       "      <td>-0.003523</td>\n",
       "      <td>0.000117</td>\n",
       "    </tr>\n",
       "    <tr>\n",
       "      <th>1</th>\n",
       "      <td>-0.000092</td>\n",
       "      <td>-0.001432</td>\n",
       "      <td>-0.000654</td>\n",
       "      <td>-0.000817</td>\n",
       "      <td>0.017794</td>\n",
       "      <td>0.004692</td>\n",
       "      <td>0.043053</td>\n",
       "      <td>0.006219</td>\n",
       "      <td>-0.091761</td>\n",
       "      <td>-0.015580</td>\n",
       "      <td>-0.162975</td>\n",
       "      <td>-0.005451</td>\n",
       "      <td>-0.074709</td>\n",
       "      <td>0.001488</td>\n",
       "      <td>0.000286</td>\n",
       "    </tr>\n",
       "    <tr>\n",
       "      <th>2</th>\n",
       "      <td>-0.004291</td>\n",
       "      <td>0.000600</td>\n",
       "      <td>0.000154</td>\n",
       "      <td>0.000394</td>\n",
       "      <td>0.036423</td>\n",
       "      <td>-0.008018</td>\n",
       "      <td>0.044729</td>\n",
       "      <td>0.006493</td>\n",
       "      <td>-0.079549</td>\n",
       "      <td>-0.016486</td>\n",
       "      <td>-0.024822</td>\n",
       "      <td>-0.011557</td>\n",
       "      <td>-0.080927</td>\n",
       "      <td>0.013979</td>\n",
       "      <td>0.000413</td>\n",
       "    </tr>\n",
       "    <tr>\n",
       "      <th>3</th>\n",
       "      <td>-0.002831</td>\n",
       "      <td>0.002876</td>\n",
       "      <td>-0.000647</td>\n",
       "      <td>-0.000118</td>\n",
       "      <td>-0.019607</td>\n",
       "      <td>-0.008133</td>\n",
       "      <td>-0.019475</td>\n",
       "      <td>0.023109</td>\n",
       "      <td>0.030703</td>\n",
       "      <td>0.006767</td>\n",
       "      <td>0.241628</td>\n",
       "      <td>-0.002068</td>\n",
       "      <td>0.137273</td>\n",
       "      <td>0.022686</td>\n",
       "      <td>0.000554</td>\n",
       "    </tr>\n",
       "    <tr>\n",
       "      <th>4</th>\n",
       "      <td>0.005883</td>\n",
       "      <td>-0.004571</td>\n",
       "      <td>0.000293</td>\n",
       "      <td>-0.000323</td>\n",
       "      <td>-0.018166</td>\n",
       "      <td>0.018915</td>\n",
       "      <td>0.011407</td>\n",
       "      <td>0.028656</td>\n",
       "      <td>-0.033670</td>\n",
       "      <td>-0.006434</td>\n",
       "      <td>0.141389</td>\n",
       "      <td>0.001693</td>\n",
       "      <td>0.277524</td>\n",
       "      <td>0.031725</td>\n",
       "      <td>0.000653</td>\n",
       "    </tr>\n",
       "    <tr>\n",
       "      <th>...</th>\n",
       "      <td>...</td>\n",
       "      <td>...</td>\n",
       "      <td>...</td>\n",
       "      <td>...</td>\n",
       "      <td>...</td>\n",
       "      <td>...</td>\n",
       "      <td>...</td>\n",
       "      <td>...</td>\n",
       "      <td>...</td>\n",
       "      <td>...</td>\n",
       "      <td>...</td>\n",
       "      <td>...</td>\n",
       "      <td>...</td>\n",
       "      <td>...</td>\n",
       "      <td>...</td>\n",
       "    </tr>\n",
       "    <tr>\n",
       "      <th>14592</th>\n",
       "      <td>0.050841</td>\n",
       "      <td>-0.001199</td>\n",
       "      <td>-0.042428</td>\n",
       "      <td>-0.008389</td>\n",
       "      <td>0.019381</td>\n",
       "      <td>0.001680</td>\n",
       "      <td>-0.037938</td>\n",
       "      <td>-0.006888</td>\n",
       "      <td>0.018557</td>\n",
       "      <td>-0.001148</td>\n",
       "      <td>0.037971</td>\n",
       "      <td>0.011060</td>\n",
       "      <td>0.301278</td>\n",
       "      <td>0.019343</td>\n",
       "      <td>0.000743</td>\n",
       "    </tr>\n",
       "    <tr>\n",
       "      <th>14593</th>\n",
       "      <td>-0.039864</td>\n",
       "      <td>-0.000289</td>\n",
       "      <td>0.038271</td>\n",
       "      <td>0.006271</td>\n",
       "      <td>-0.013570</td>\n",
       "      <td>-0.005292</td>\n",
       "      <td>0.072577</td>\n",
       "      <td>-0.050030</td>\n",
       "      <td>-0.016495</td>\n",
       "      <td>0.004072</td>\n",
       "      <td>0.029537</td>\n",
       "      <td>0.007080</td>\n",
       "      <td>0.227546</td>\n",
       "      <td>0.023958</td>\n",
       "      <td>0.000609</td>\n",
       "    </tr>\n",
       "    <tr>\n",
       "      <th>14594</th>\n",
       "      <td>0.032000</td>\n",
       "      <td>-0.004512</td>\n",
       "      <td>-0.031172</td>\n",
       "      <td>-0.002037</td>\n",
       "      <td>0.015251</td>\n",
       "      <td>0.002294</td>\n",
       "      <td>-0.007503</td>\n",
       "      <td>0.003530</td>\n",
       "      <td>-0.001903</td>\n",
       "      <td>-0.003692</td>\n",
       "      <td>0.025111</td>\n",
       "      <td>0.005673</td>\n",
       "      <td>0.073648</td>\n",
       "      <td>0.016902</td>\n",
       "      <td>0.000476</td>\n",
       "    </tr>\n",
       "    <tr>\n",
       "      <th>14595</th>\n",
       "      <td>-0.020229</td>\n",
       "      <td>0.000266</td>\n",
       "      <td>0.021548</td>\n",
       "      <td>0.001338</td>\n",
       "      <td>-0.004471</td>\n",
       "      <td>-0.002069</td>\n",
       "      <td>0.073994</td>\n",
       "      <td>-0.023696</td>\n",
       "      <td>-0.021018</td>\n",
       "      <td>0.002141</td>\n",
       "      <td>0.011911</td>\n",
       "      <td>0.002567</td>\n",
       "      <td>0.006474</td>\n",
       "      <td>0.013215</td>\n",
       "      <td>0.000310</td>\n",
       "    </tr>\n",
       "    <tr>\n",
       "      <th>14596</th>\n",
       "      <td>0.011438</td>\n",
       "      <td>-0.002373</td>\n",
       "      <td>-0.010684</td>\n",
       "      <td>0.000552</td>\n",
       "      <td>0.006383</td>\n",
       "      <td>0.000976</td>\n",
       "      <td>0.004830</td>\n",
       "      <td>0.012927</td>\n",
       "      <td>-0.012898</td>\n",
       "      <td>-0.003353</td>\n",
       "      <td>0.000196</td>\n",
       "      <td>-0.000683</td>\n",
       "      <td>-0.086344</td>\n",
       "      <td>0.001956</td>\n",
       "      <td>0.000194</td>\n",
       "    </tr>\n",
       "  </tbody>\n",
       "</table>\n",
       "<p>14597 rows × 15 columns</p>\n",
       "</div>"
      ],
      "text/plain": [
       "             0         1         2         3         4         5         6   \\\n",
       "0      0.001828  0.001407  0.000633  0.000314 -0.018471 -0.006255 -0.023785   \n",
       "1     -0.000092 -0.001432 -0.000654 -0.000817  0.017794  0.004692  0.043053   \n",
       "2     -0.004291  0.000600  0.000154  0.000394  0.036423 -0.008018  0.044729   \n",
       "3     -0.002831  0.002876 -0.000647 -0.000118 -0.019607 -0.008133 -0.019475   \n",
       "4      0.005883 -0.004571  0.000293 -0.000323 -0.018166  0.018915  0.011407   \n",
       "...         ...       ...       ...       ...       ...       ...       ...   \n",
       "14592  0.050841 -0.001199 -0.042428 -0.008389  0.019381  0.001680 -0.037938   \n",
       "14593 -0.039864 -0.000289  0.038271  0.006271 -0.013570 -0.005292  0.072577   \n",
       "14594  0.032000 -0.004512 -0.031172 -0.002037  0.015251  0.002294 -0.007503   \n",
       "14595 -0.020229  0.000266  0.021548  0.001338 -0.004471 -0.002069  0.073994   \n",
       "14596  0.011438 -0.002373 -0.010684  0.000552  0.006383  0.000976  0.004830   \n",
       "\n",
       "             7         8         9         10        11        12        13  \\\n",
       "0     -0.004148  0.010819  0.001846  0.036653 -0.000102  0.021376 -0.003523   \n",
       "1      0.006219 -0.091761 -0.015580 -0.162975 -0.005451 -0.074709  0.001488   \n",
       "2      0.006493 -0.079549 -0.016486 -0.024822 -0.011557 -0.080927  0.013979   \n",
       "3      0.023109  0.030703  0.006767  0.241628 -0.002068  0.137273  0.022686   \n",
       "4      0.028656 -0.033670 -0.006434  0.141389  0.001693  0.277524  0.031725   \n",
       "...         ...       ...       ...       ...       ...       ...       ...   \n",
       "14592 -0.006888  0.018557 -0.001148  0.037971  0.011060  0.301278  0.019343   \n",
       "14593 -0.050030 -0.016495  0.004072  0.029537  0.007080  0.227546  0.023958   \n",
       "14594  0.003530 -0.001903 -0.003692  0.025111  0.005673  0.073648  0.016902   \n",
       "14595 -0.023696 -0.021018  0.002141  0.011911  0.002567  0.006474  0.013215   \n",
       "14596  0.012927 -0.012898 -0.003353  0.000196 -0.000683 -0.086344  0.001956   \n",
       "\n",
       "             14  \n",
       "0      0.000117  \n",
       "1      0.000286  \n",
       "2      0.000413  \n",
       "3      0.000554  \n",
       "4      0.000653  \n",
       "...         ...  \n",
       "14592  0.000743  \n",
       "14593  0.000609  \n",
       "14594  0.000476  \n",
       "14595  0.000310  \n",
       "14596  0.000194  \n",
       "\n",
       "[14597 rows x 15 columns]"
      ]
     },
     "execution_count": 14,
     "metadata": {},
     "output_type": "execute_result"
    }
   ],
   "source": [
    "data"
   ]
  },
  {
   "cell_type": "code",
   "execution_count": 15,
   "id": "0b6f34ed",
   "metadata": {
    "execution": {
     "iopub.execute_input": "2021-09-24T16:37:02.688737Z",
     "iopub.status.busy": "2021-09-24T16:37:02.688073Z",
     "iopub.status.idle": "2021-09-24T16:37:02.882887Z",
     "shell.execute_reply": "2021-09-24T16:37:02.883368Z",
     "shell.execute_reply.started": "2021-09-24T16:27:09.935925Z"
    },
    "papermill": {
     "duration": 0.225879,
     "end_time": "2021-09-24T16:37:02.883570",
     "exception": false,
     "start_time": "2021-09-24T16:37:02.657691",
     "status": "completed"
    },
    "tags": []
   },
   "outputs": [],
   "source": [
    "from sklearn.model_selection import train_test_split\n",
    "X_train, X_test, y_train, y_test = train_test_split(data, y, test_size=0.25, shuffle=True)"
   ]
  },
  {
   "cell_type": "code",
   "execution_count": 16,
   "id": "efde008e",
   "metadata": {
    "execution": {
     "iopub.execute_input": "2021-09-24T16:37:02.941085Z",
     "iopub.status.busy": "2021-09-24T16:37:02.940402Z",
     "iopub.status.idle": "2021-09-24T16:37:02.943916Z",
     "shell.execute_reply": "2021-09-24T16:37:02.943381Z",
     "shell.execute_reply.started": "2021-09-24T16:27:10.176298Z"
    },
    "papermill": {
     "duration": 0.034572,
     "end_time": "2021-09-24T16:37:02.944068",
     "exception": false,
     "start_time": "2021-09-24T16:37:02.909496",
     "status": "completed"
    },
    "tags": []
   },
   "outputs": [
    {
     "name": "stdout",
     "output_type": "stream",
     "text": [
      "Shape of Train Data : (10947, 15)\n",
      "Shape of Test Data : (3650, 15)\n"
     ]
    }
   ],
   "source": [
    "print(\"Shape of Train Data : {}\".format(X_train.shape))\n",
    "print(\"Shape of Test Data : {}\".format(X_test.shape))"
   ]
  },
  {
   "cell_type": "markdown",
   "id": "a94fe27d",
   "metadata": {
    "papermill": {
     "duration": 0.025523,
     "end_time": "2021-09-24T16:37:02.995832",
     "exception": false,
     "start_time": "2021-09-24T16:37:02.970309",
     "status": "completed"
    },
    "tags": []
   },
   "source": [
    "## SVM Machine Learning"
   ]
  },
  {
   "cell_type": "code",
   "execution_count": 17,
   "id": "d875df33",
   "metadata": {
    "execution": {
     "iopub.execute_input": "2021-09-24T16:37:03.052244Z",
     "iopub.status.busy": "2021-09-24T16:37:03.051227Z",
     "iopub.status.idle": "2021-09-24T16:37:12.200314Z",
     "shell.execute_reply": "2021-09-24T16:37:12.200848Z",
     "shell.execute_reply.started": "2021-09-24T16:27:10.187521Z"
    },
    "papermill": {
     "duration": 9.179408,
     "end_time": "2021-09-24T16:37:12.201044",
     "exception": false,
     "start_time": "2021-09-24T16:37:03.021636",
     "status": "completed"
    },
    "tags": []
   },
   "outputs": [
    {
     "name": "stderr",
     "output_type": "stream",
     "text": [
      "/opt/conda/lib/python3.7/site-packages/sklearn/utils/validation.py:72: DataConversionWarning: A column-vector y was passed when a 1d array was expected. Please change the shape of y to (n_samples, ), for example using ravel().\n",
      "  return f(**kwargs)\n"
     ]
    },
    {
     "name": "stdout",
     "output_type": "stream",
     "text": [
      "SVM accuracy is 0.7947382844614963 on Train Dataset\n",
      "SVM accuracy is 0.7958904109589041 on Test Dataset\n"
     ]
    }
   ],
   "source": [
    "from sklearn.svm import SVC\n",
    "svm = SVC(random_state = 1)\n",
    "svm.fit(X_train,y_train)\n",
    "print(\"SVM accuracy is {} on Train Dataset\".format(svm.score(X_train,y_train)))\n",
    "print(\"SVM accuracy is {} on Test Dataset\".format(svm.score(X_test,y_test)))"
   ]
  },
  {
   "cell_type": "markdown",
   "id": "50ba2010",
   "metadata": {
    "papermill": {
     "duration": 0.02654,
     "end_time": "2021-09-24T16:37:12.256872",
     "exception": false,
     "start_time": "2021-09-24T16:37:12.230332",
     "status": "completed"
    },
    "tags": []
   },
   "source": [
    "## kNN Machine Learning"
   ]
  },
  {
   "cell_type": "code",
   "execution_count": 18,
   "id": "7d08c3ba",
   "metadata": {
    "execution": {
     "iopub.execute_input": "2021-09-24T16:37:12.319334Z",
     "iopub.status.busy": "2021-09-24T16:37:12.318667Z",
     "iopub.status.idle": "2021-09-24T16:37:13.267264Z",
     "shell.execute_reply": "2021-09-24T16:37:13.267953Z",
     "shell.execute_reply.started": "2021-09-24T16:27:23.046576Z"
    },
    "papermill": {
     "duration": 0.982078,
     "end_time": "2021-09-24T16:37:13.268203",
     "exception": false,
     "start_time": "2021-09-24T16:37:12.286125",
     "status": "completed"
    },
    "tags": []
   },
   "outputs": [
    {
     "name": "stderr",
     "output_type": "stream",
     "text": [
      "/opt/conda/lib/python3.7/site-packages/ipykernel_launcher.py:3: DataConversionWarning: A column-vector y was passed when a 1d array was expected. Please change the shape of y to (n_samples, ), for example using ravel().\n",
      "  This is separate from the ipykernel package so we can avoid doing imports until\n"
     ]
    },
    {
     "name": "stdout",
     "output_type": "stream",
     "text": [
      "k=3NN Accuracy on Train Data: 0.9576139581620535\n",
      "k=3NN Accuracy on Test Data: 0.8221917808219178\n"
     ]
    }
   ],
   "source": [
    "from sklearn.neighbors import KNeighborsClassifier\n",
    "knn = KNeighborsClassifier(n_neighbors = 3) #n_neighbors = k\n",
    "knn.fit(X_train,y_train)\n",
    "print(\"k={}NN Accuracy on Train Data: {}\".format(3,knn.score(X_train,y_train)))\n",
    "print(\"k={}NN Accuracy on Test Data: {}\".format(3,knn.score(X_test,y_test)))"
   ]
  }
 ],
 "metadata": {
  "kernelspec": {
   "display_name": "Python 3",
   "language": "python",
   "name": "python3"
  },
  "language_info": {
   "codemirror_mode": {
    "name": "ipython",
    "version": 3
   },
   "file_extension": ".py",
   "mimetype": "text/x-python",
   "name": "python",
   "nbconvert_exporter": "python",
   "pygments_lexer": "ipython3",
   "version": "3.8.8"
  },
  "papermill": {
   "default_parameters": {},
   "duration": 147.886968,
   "end_time": "2021-09-24T16:37:37.119230",
   "environment_variables": {},
   "exception": null,
   "input_path": "__notebook__.ipynb",
   "output_path": "__notebook__.ipynb",
   "parameters": {},
   "start_time": "2021-09-24T16:35:09.232262",
   "version": "2.3.3"
  }
 },
 "nbformat": 4,
 "nbformat_minor": 5
}
